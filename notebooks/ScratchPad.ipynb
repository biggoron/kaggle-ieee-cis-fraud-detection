{
 "cells": [
  {
   "cell_type": "code",
   "execution_count": 1,
   "metadata": {},
   "outputs": [],
   "source": [
    "%load_ext autoreload\n",
    "%autoreload 2"
   ]
  },
  {
   "cell_type": "code",
   "execution_count": 2,
   "metadata": {},
   "outputs": [
    {
     "data": {
      "text/html": [
       "<style>.container { width:100% !important; }</style>"
      ],
      "text/plain": [
       "<IPython.core.display.HTML object>"
      ]
     },
     "metadata": {},
     "output_type": "display_data"
    }
   ],
   "source": [
    "from IPython.core.display import display, HTML\n",
    "display(HTML(\"<style>.container { width:100% !important; }</style>\"))"
   ]
  },
  {
   "cell_type": "code",
   "execution_count": 135,
   "metadata": {},
   "outputs": [],
   "source": [
    "import gc\n",
    "\n",
    "import pandas as pd\n",
    "import numpy as np\n",
    "\n",
    "from xgboost import plot_importance\n",
    "import matplotlib.pyplot as pyplot\n",
    "from xgboost.sklearn import XGBClassifier\n",
    "\n",
    "# from preprocess import preprocess\n",
    "# from train import train_eval_model\n",
    "\n",
    "from load import BaseDataLoader\n",
    "from packager import Packager\n",
    "from feature_engineer import FeatureEngineer\n",
    "from cross_val_labo import CrossValLabo"
   ]
  },
  {
   "cell_type": "code",
   "execution_count": 4,
   "metadata": {},
   "outputs": [
    {
     "name": "stdout",
     "output_type": "stream",
     "text": [
      "Loaded tables' types are not converted\n"
     ]
    },
    {
     "data": {
      "text/plain": [
       "0"
      ]
     },
     "execution_count": 4,
     "metadata": {},
     "output_type": "execute_result"
    }
   ],
   "source": [
    "data = BaseDataLoader('/home/dan/Projects/kaggle-ieee-cis-fraud-detection/data').files\n",
    "trs_train = data['train_transaction']\n",
    "trs_test = data['test_transaction']\n",
    "del data\n",
    "gc.collect()"
   ]
  },
  {
   "cell_type": "code",
   "execution_count": 34,
   "metadata": {},
   "outputs": [],
   "source": [
    "train_mask, val_mask = Packager.get_train_val_masks(trs_train)"
   ]
  },
  {
   "cell_type": "code",
   "execution_count": 233,
   "metadata": {},
   "outputs": [
    {
     "data": {
      "text/plain": [
       "0"
      ]
     },
     "execution_count": 233,
     "metadata": {},
     "output_type": "execute_result"
    }
   ],
   "source": [
    "train = trs_train[train_mask]\n",
    "val = trs_train[val_mask]\n",
    "feat_cols, label_col = Packager.split_feat_label(train)\n",
    "X_train = train[feat_cols]\n",
    "Y_train = train[label_col]\n",
    "X_val = val[feat_cols]\n",
    "Y_val = val[label_col]\n",
    "del train\n",
    "del val\n",
    "gc.collect()"
   ]
  },
  {
   "cell_type": "code",
   "execution_count": 307,
   "metadata": {},
   "outputs": [
    {
     "name": "stdout",
     "output_type": "stream",
     "text": [
      "step 0: trs_amt_sin\n",
      "skipping\n",
      "step 1: trs_amt_scale\n",
      "skipping\n",
      "step 2: trs_amt_diff\n",
      "skipping\n",
      "step 3: trs_amt_round\n",
      "skipping\n",
      "step 4: trs_card_type_dum\n",
      "step 0: trs_amt_sin\n",
      "skipping\n",
      "step 1: trs_amt_scale\n",
      "skipping\n",
      "step 2: trs_amt_diff\n",
      "skipping\n",
      "step 3: trs_amt_round\n",
      "skipping\n",
      "step 4: trs_card_type_dum\n",
      "missing card_type_charge card\n",
      "missing card_type_debit or credit\n"
     ]
    }
   ],
   "source": [
    "skip = ['trs_amt_sin', 'trs_amt_scale', 'trs_amt_diff', 'trs_amt_round'] #, 'trs_card_type_dum'\n",
    "exclude = ['trs_amt_scale', 'trs_amt_round']\n",
    "fi = FeatureEngineer(skip, exclude)\n",
    "X_train_prepro = fi.transform(X_train, 'TransactionID', 'train')\n",
    "X_val_prepro = fi.transform(X_val, 'TransactionID', 'val')"
   ]
  },
  {
   "cell_type": "code",
   "execution_count": 308,
   "metadata": {},
   "outputs": [
    {
     "data": {
      "text/html": [
       "<div>\n",
       "<style scoped>\n",
       "    .dataframe tbody tr th:only-of-type {\n",
       "        vertical-align: middle;\n",
       "    }\n",
       "\n",
       "    .dataframe tbody tr th {\n",
       "        vertical-align: top;\n",
       "    }\n",
       "\n",
       "    .dataframe thead th {\n",
       "        text-align: right;\n",
       "    }\n",
       "</style>\n",
       "<table border=\"1\" class=\"dataframe\">\n",
       "  <thead>\n",
       "    <tr style=\"text-align: right;\">\n",
       "      <th></th>\n",
       "      <th>phase_sin</th>\n",
       "      <th>phase_cos</th>\n",
       "      <th>amt_diff</th>\n",
       "      <th>card_type_charge card</th>\n",
       "      <th>card_type_credit</th>\n",
       "      <th>card_type_debit</th>\n",
       "      <th>card_type_debit or credit</th>\n",
       "      <th>card_type_other</th>\n",
       "      <th>card_comp_american express</th>\n",
       "      <th>card_comp_discover</th>\n",
       "      <th>card_comp_mastercard</th>\n",
       "      <th>card_comp_other</th>\n",
       "      <th>card_comp_visa</th>\n",
       "    </tr>\n",
       "    <tr>\n",
       "      <th>TransactionID</th>\n",
       "      <th></th>\n",
       "      <th></th>\n",
       "      <th></th>\n",
       "      <th></th>\n",
       "      <th></th>\n",
       "      <th></th>\n",
       "      <th></th>\n",
       "      <th></th>\n",
       "      <th></th>\n",
       "      <th></th>\n",
       "      <th></th>\n",
       "      <th></th>\n",
       "      <th></th>\n",
       "    </tr>\n",
       "  </thead>\n",
       "  <tbody>\n",
       "    <tr>\n",
       "      <td>2987000</td>\n",
       "      <td>-0.056763</td>\n",
       "      <td>-0.998535</td>\n",
       "      <td>-0.529060</td>\n",
       "      <td>0</td>\n",
       "      <td>1</td>\n",
       "      <td>0</td>\n",
       "      <td>0</td>\n",
       "      <td>0</td>\n",
       "      <td>0</td>\n",
       "      <td>1</td>\n",
       "      <td>0</td>\n",
       "      <td>0</td>\n",
       "      <td>0</td>\n",
       "    </tr>\n",
       "    <tr>\n",
       "      <td>2987001</td>\n",
       "      <td>-0.056824</td>\n",
       "      <td>-0.998535</td>\n",
       "      <td>-0.800624</td>\n",
       "      <td>0</td>\n",
       "      <td>1</td>\n",
       "      <td>0</td>\n",
       "      <td>0</td>\n",
       "      <td>0</td>\n",
       "      <td>0</td>\n",
       "      <td>0</td>\n",
       "      <td>1</td>\n",
       "      <td>0</td>\n",
       "      <td>0</td>\n",
       "    </tr>\n",
       "    <tr>\n",
       "      <td>2987002</td>\n",
       "      <td>-0.061523</td>\n",
       "      <td>-0.998047</td>\n",
       "      <td>-0.594373</td>\n",
       "      <td>0</td>\n",
       "      <td>0</td>\n",
       "      <td>1</td>\n",
       "      <td>0</td>\n",
       "      <td>0</td>\n",
       "      <td>0</td>\n",
       "      <td>0</td>\n",
       "      <td>0</td>\n",
       "      <td>0</td>\n",
       "      <td>1</td>\n",
       "    </tr>\n",
       "    <tr>\n",
       "      <td>2987003</td>\n",
       "      <td>-0.063599</td>\n",
       "      <td>-0.998047</td>\n",
       "      <td>-0.656248</td>\n",
       "      <td>0</td>\n",
       "      <td>0</td>\n",
       "      <td>1</td>\n",
       "      <td>0</td>\n",
       "      <td>0</td>\n",
       "      <td>0</td>\n",
       "      <td>0</td>\n",
       "      <td>1</td>\n",
       "      <td>0</td>\n",
       "      <td>0</td>\n",
       "    </tr>\n",
       "    <tr>\n",
       "      <td>2987004</td>\n",
       "      <td>-0.064087</td>\n",
       "      <td>-0.998047</td>\n",
       "      <td>-0.656248</td>\n",
       "      <td>0</td>\n",
       "      <td>1</td>\n",
       "      <td>0</td>\n",
       "      <td>0</td>\n",
       "      <td>0</td>\n",
       "      <td>0</td>\n",
       "      <td>0</td>\n",
       "      <td>1</td>\n",
       "      <td>0</td>\n",
       "      <td>0</td>\n",
       "    </tr>\n",
       "    <tr>\n",
       "      <td>...</td>\n",
       "      <td>...</td>\n",
       "      <td>...</td>\n",
       "      <td>...</td>\n",
       "      <td>...</td>\n",
       "      <td>...</td>\n",
       "      <td>...</td>\n",
       "      <td>...</td>\n",
       "      <td>...</td>\n",
       "      <td>...</td>\n",
       "      <td>...</td>\n",
       "      <td>...</td>\n",
       "      <td>...</td>\n",
       "      <td>...</td>\n",
       "    </tr>\n",
       "    <tr>\n",
       "      <td>3483431</td>\n",
       "      <td>-0.870117</td>\n",
       "      <td>0.493164</td>\n",
       "      <td>1.285457</td>\n",
       "      <td>0</td>\n",
       "      <td>0</td>\n",
       "      <td>1</td>\n",
       "      <td>0</td>\n",
       "      <td>0</td>\n",
       "      <td>0</td>\n",
       "      <td>0</td>\n",
       "      <td>1</td>\n",
       "      <td>0</td>\n",
       "      <td>0</td>\n",
       "    </tr>\n",
       "    <tr>\n",
       "      <td>3483432</td>\n",
       "      <td>-0.866699</td>\n",
       "      <td>0.499023</td>\n",
       "      <td>1.285457</td>\n",
       "      <td>0</td>\n",
       "      <td>0</td>\n",
       "      <td>1</td>\n",
       "      <td>0</td>\n",
       "      <td>0</td>\n",
       "      <td>0</td>\n",
       "      <td>0</td>\n",
       "      <td>1</td>\n",
       "      <td>0</td>\n",
       "      <td>0</td>\n",
       "    </tr>\n",
       "    <tr>\n",
       "      <td>3483433</td>\n",
       "      <td>-0.865234</td>\n",
       "      <td>0.501465</td>\n",
       "      <td>2.116860</td>\n",
       "      <td>0</td>\n",
       "      <td>0</td>\n",
       "      <td>1</td>\n",
       "      <td>0</td>\n",
       "      <td>0</td>\n",
       "      <td>0</td>\n",
       "      <td>0</td>\n",
       "      <td>0</td>\n",
       "      <td>0</td>\n",
       "      <td>1</td>\n",
       "    </tr>\n",
       "    <tr>\n",
       "      <td>3483434</td>\n",
       "      <td>-0.858887</td>\n",
       "      <td>0.512207</td>\n",
       "      <td>-0.575661</td>\n",
       "      <td>0</td>\n",
       "      <td>0</td>\n",
       "      <td>1</td>\n",
       "      <td>0</td>\n",
       "      <td>0</td>\n",
       "      <td>0</td>\n",
       "      <td>0</td>\n",
       "      <td>1</td>\n",
       "      <td>0</td>\n",
       "      <td>0</td>\n",
       "    </tr>\n",
       "    <tr>\n",
       "      <td>3483435</td>\n",
       "      <td>-0.858398</td>\n",
       "      <td>0.512695</td>\n",
       "      <td>-0.157800</td>\n",
       "      <td>0</td>\n",
       "      <td>1</td>\n",
       "      <td>0</td>\n",
       "      <td>0</td>\n",
       "      <td>0</td>\n",
       "      <td>0</td>\n",
       "      <td>0</td>\n",
       "      <td>0</td>\n",
       "      <td>0</td>\n",
       "      <td>1</td>\n",
       "    </tr>\n",
       "  </tbody>\n",
       "</table>\n",
       "<p>496436 rows × 13 columns</p>\n",
       "</div>"
      ],
      "text/plain": [
       "               phase_sin  phase_cos  amt_diff  card_type_charge card  \\\n",
       "TransactionID                                                          \n",
       "2987000        -0.056763  -0.998535 -0.529060                      0   \n",
       "2987001        -0.056824  -0.998535 -0.800624                      0   \n",
       "2987002        -0.061523  -0.998047 -0.594373                      0   \n",
       "2987003        -0.063599  -0.998047 -0.656248                      0   \n",
       "2987004        -0.064087  -0.998047 -0.656248                      0   \n",
       "...                  ...        ...       ...                    ...   \n",
       "3483431        -0.870117   0.493164  1.285457                      0   \n",
       "3483432        -0.866699   0.499023  1.285457                      0   \n",
       "3483433        -0.865234   0.501465  2.116860                      0   \n",
       "3483434        -0.858887   0.512207 -0.575661                      0   \n",
       "3483435        -0.858398   0.512695 -0.157800                      0   \n",
       "\n",
       "               card_type_credit  card_type_debit  card_type_debit or credit  \\\n",
       "TransactionID                                                                 \n",
       "2987000                       1                0                          0   \n",
       "2987001                       1                0                          0   \n",
       "2987002                       0                1                          0   \n",
       "2987003                       0                1                          0   \n",
       "2987004                       1                0                          0   \n",
       "...                         ...              ...                        ...   \n",
       "3483431                       0                1                          0   \n",
       "3483432                       0                1                          0   \n",
       "3483433                       0                1                          0   \n",
       "3483434                       0                1                          0   \n",
       "3483435                       1                0                          0   \n",
       "\n",
       "               card_type_other  card_comp_american express  \\\n",
       "TransactionID                                                \n",
       "2987000                      0                           0   \n",
       "2987001                      0                           0   \n",
       "2987002                      0                           0   \n",
       "2987003                      0                           0   \n",
       "2987004                      0                           0   \n",
       "...                        ...                         ...   \n",
       "3483431                      0                           0   \n",
       "3483432                      0                           0   \n",
       "3483433                      0                           0   \n",
       "3483434                      0                           0   \n",
       "3483435                      0                           0   \n",
       "\n",
       "               card_comp_discover  card_comp_mastercard  card_comp_other  \\\n",
       "TransactionID                                                              \n",
       "2987000                         1                     0                0   \n",
       "2987001                         0                     1                0   \n",
       "2987002                         0                     0                0   \n",
       "2987003                         0                     1                0   \n",
       "2987004                         0                     1                0   \n",
       "...                           ...                   ...              ...   \n",
       "3483431                         0                     1                0   \n",
       "3483432                         0                     1                0   \n",
       "3483433                         0                     0                0   \n",
       "3483434                         0                     1                0   \n",
       "3483435                         0                     0                0   \n",
       "\n",
       "               card_comp_visa  \n",
       "TransactionID                  \n",
       "2987000                     0  \n",
       "2987001                     0  \n",
       "2987002                     1  \n",
       "2987003                     0  \n",
       "2987004                     0  \n",
       "...                       ...  \n",
       "3483431                     0  \n",
       "3483432                     0  \n",
       "3483433                     1  \n",
       "3483434                     0  \n",
       "3483435                     1  \n",
       "\n",
       "[496436 rows x 13 columns]"
      ]
     },
     "execution_count": 308,
     "metadata": {},
     "output_type": "execute_result"
    }
   ],
   "source": [
    "X_train_prepro"
   ]
  },
  {
   "cell_type": "code",
   "execution_count": 309,
   "metadata": {},
   "outputs": [],
   "source": [
    "model = XGBClassifier()\n",
    "parameters = {\n",
    "    'nthread':[4], #when use hyperthread, xgboost may become slower\n",
    "    'objective':['binary:logistic'],\n",
    "    'learning_rate': [0.6], # from 0.1\n",
    "    'max_depth': [1, 2], # opti 20 but slow\n",
    "    'min_child_weight': [40],\n",
    "    'silent': [1],\n",
    "    'subsample': [0.8],\n",
    "    'colsample_bytree': [0.8], # from 0.8\n",
    "    'n_estimators': [1000], #number of trees, change it to 1000 for better results\n",
    "    'seed': [1337]}"
   ]
  },
  {
   "cell_type": "code",
   "execution_count": 310,
   "metadata": {},
   "outputs": [
    {
     "name": "stdout",
     "output_type": "stream",
     "text": [
      "Fitting 1 folds for each of 2 candidates, totalling 2 fits\n",
      "[CV] colsample_bytree=0.8, learning_rate=0.6, max_depth=1, min_child_weight=40, n_estimators=1000, nthread=6, objective=binary:logistic, seed=1337, silent=1, subsample=0.8 \n"
     ]
    },
    {
     "name": "stderr",
     "output_type": "stream",
     "text": [
      "[Parallel(n_jobs=1)]: Using backend SequentialBackend with 1 concurrent workers.\n"
     ]
    },
    {
     "name": "stdout",
     "output_type": "stream",
     "text": [
      "[CV]  colsample_bytree=0.8, learning_rate=0.6, max_depth=1, min_child_weight=40, n_estimators=1000, nthread=6, objective=binary:logistic, seed=1337, silent=1, subsample=0.8, total=  39.3s\n",
      "[CV] colsample_bytree=0.8, learning_rate=0.6, max_depth=2, min_child_weight=40, n_estimators=1000, nthread=6, objective=binary:logistic, seed=1337, silent=1, subsample=0.8 \n"
     ]
    },
    {
     "name": "stderr",
     "output_type": "stream",
     "text": [
      "[Parallel(n_jobs=1)]: Done   1 out of   1 | elapsed:   39.3s remaining:    0.0s\n"
     ]
    },
    {
     "name": "stdout",
     "output_type": "stream",
     "text": [
      "[CV]  colsample_bytree=0.8, learning_rate=0.6, max_depth=2, min_child_weight=40, n_estimators=1000, nthread=6, objective=binary:logistic, seed=1337, silent=1, subsample=0.8, total=  59.7s\n"
     ]
    },
    {
     "name": "stderr",
     "output_type": "stream",
     "text": [
      "[Parallel(n_jobs=1)]: Done   2 out of   2 | elapsed:  1.7min finished\n"
     ]
    }
   ],
   "source": [
    "best_parameters_val, score_val, score_train, model = CrossValLabo.optimize_hparams(model, parameters, X_train_prepro, Y_train, X_val_prepro, Y_val)"
   ]
  },
  {
   "cell_type": "code",
   "execution_count": 313,
   "metadata": {},
   "outputs": [
    {
     "name": "stdout",
     "output_type": "stream",
     "text": [
      "{'colsample_bytree': 0.8, 'learning_rate': 0.6, 'max_depth': 1, 'min_child_weight': 40, 'n_estimators': 1000, 'nthread': 6, 'objective': 'binary:logistic', 'seed': 1337, 'silent': 1, 'subsample': 0.8}\n",
      "0.6587299824566636\n",
      "0.6849558227809228\n"
     ]
    }
   ],
   "source": [
    "print(best_parameters_val)\n",
    "print(score_val)\n",
    "print(score_train)"
   ]
  },
  {
   "cell_type": "code",
   "execution_count": 314,
   "metadata": {},
   "outputs": [
    {
     "data": {
      "text/plain": [
       "<matplotlib.axes._subplots.AxesSubplot at 0x7f9c75191630>"
      ]
     },
     "execution_count": 314,
     "metadata": {},
     "output_type": "execute_result"
    },
    {
     "data": {
      "image/png": "[encoded data removed]",
      "text/plain": [
       "<Figure size 432x288 with 1 Axes>"
      ]
     },
     "metadata": {
      "needs_background": "light"
     },
     "output_type": "display_data"
    }
   ],
   "source": [
    "plot_importance(model)"
   ]
  },
  {
   "cell_type": "code",
   "execution_count": null,
   "metadata": {},
   "outputs": [],
   "source": []
  }
 ],
 "metadata": {
  "kernelspec": {
   "display_name": "Python 3",
   "language": "python",
   "name": "python3"
  },
  "language_info": {
   "codemirror_mode": {
    "name": "ipython",
    "version": 3
   },
   "file_extension": ".py",
   "mimetype": "text/x-python",
   "name": "python",
   "nbconvert_exporter": "python",
   "pygments_lexer": "ipython3",
   "version": "3.6.8"
  }
 },
 "nbformat": 4,
 "nbformat_minor": 2
}
