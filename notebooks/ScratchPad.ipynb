{
 "cells": [
  {
   "cell_type": "code",
   "execution_count": 56,
   "metadata": {},
   "outputs": [
    {
     "name": "stdout",
     "output_type": "stream",
     "text": [
      "The autoreload extension is already loaded. To reload it, use:\n",
      "  %reload_ext autoreload\n"
     ]
    }
   ],
   "source": [
    "%load_ext autoreload\n",
    "%autoreload 2"
   ]
  },
  {
   "cell_type": "code",
   "execution_count": 57,
   "metadata": {},
   "outputs": [
    {
     "data": {
      "text/html": [
       "<style>.container { width:100% !important; }</style>"
      ],
      "text/plain": [
       "<IPython.core.display.HTML object>"
      ]
     },
     "metadata": {},
     "output_type": "display_data"
    }
   ],
   "source": [
    "from IPython.core.display import display, HTML\n",
    "display(HTML(\"<style>.container { width:100% !important; }</style>\"))"
   ]
  },
  {
   "cell_type": "code",
   "execution_count": 58,
   "metadata": {},
   "outputs": [],
   "source": [
    "import gc\n",
    "\n",
    "import pandas as pd\n",
    "import numpy as np\n",
    "\n",
    "from xgboost import plot_importance\n",
    "import matplotlib.pyplot as pyplot\n",
    "from xgboost.sklearn import XGBClassifier\n",
    "import lightgbm as lgb\n",
    "\n",
    "# from preprocess import preprocess\n",
    "# from train import train_eval_model\n",
    "\n",
    "from load import BaseDataLoader\n",
    "from packager import Packager\n",
    "from feature_engineer import FeatureEngineer\n",
    "from cross_val_labo import CrossValLabo\n",
    "from settings import DATA_DIR"
   ]
  },
  {
   "cell_type": "code",
   "execution_count": 59,
   "metadata": {},
   "outputs": [
    {
     "name": "stdout",
     "output_type": "stream",
     "text": [
      "Loaded tables' types are not converted\n"
     ]
    },
    {
     "data": {
      "text/plain": [
       "3129"
      ]
     },
     "execution_count": 59,
     "metadata": {},
     "output_type": "execute_result"
    }
   ],
   "source": [
    "data = BaseDataLoader(DATA_DIR).files\n",
    "trs_train = data['train_transaction']\n",
    "trs_test = data['test_transaction']\n",
    "del data\n",
    "gc.collect()"
   ]
  },
  {
   "cell_type": "code",
   "execution_count": 60,
   "metadata": {},
   "outputs": [],
   "source": [
    "train_mask, val_mask = Packager.get_train_val_masks(trs_train)"
   ]
  },
  {
   "cell_type": "code",
   "execution_count": 61,
   "metadata": {},
   "outputs": [
    {
     "data": {
      "text/plain": [
       "0"
      ]
     },
     "execution_count": 61,
     "metadata": {},
     "output_type": "execute_result"
    }
   ],
   "source": [
    "train = trs_train[train_mask]\n",
    "val = trs_train[val_mask]\n",
    "feat_cols, label_col = Packager.split_feat_label(train)\n",
    "X_train = train[feat_cols]\n",
    "Y_train = train[label_col]\n",
    "X_val = val[feat_cols]\n",
    "Y_val = val[label_col]\n",
    "del train\n",
    "del val\n",
    "gc.collect()"
   ]
  },
  {
   "cell_type": "code",
   "execution_count": 62,
   "metadata": {},
   "outputs": [
    {
     "name": "stdout",
     "output_type": "stream",
     "text": [
      "step 0: trs_amt_sin\n",
      "skipping\n",
      "step 1: trs_amt_scale\n",
      "skipping\n",
      "step 2: trs_amt_diff\n",
      "skipping\n",
      "step 3: trs_amt_round\n",
      "skipping\n",
      "step 4: trs_card_type_dum\n",
      "skipping\n",
      "step 0: trs_amt_sin\n",
      "skipping\n",
      "step 1: trs_amt_scale\n",
      "skipping\n",
      "step 2: trs_amt_diff\n",
      "skipping\n",
      "step 3: trs_amt_round\n",
      "skipping\n",
      "step 4: trs_card_type_dum\n",
      "skipping\n",
      "missing card_type_charge card\n",
      "missing card_type_debit or credit\n"
     ]
    }
   ],
   "source": [
    "skip = ['trs_amt_sin', 'trs_amt_scale', 'trs_amt_diff', 'trs_amt_round', 'trs_card_type_dum'] #, 'trs_card_type_dum'\n",
    "exclude = [] #['trs_amt_scale', 'trs_amt_round']\n",
    "fi = FeatureEngineer(skip, exclude)\n",
    "X_train_prepro = fi.transform(X_train, 'TransactionID', 'train')\n",
    "X_val_prepro = fi.transform(X_val, 'TransactionID', 'val')"
   ]
  },
  {
   "cell_type": "code",
   "execution_count": null,
   "metadata": {},
   "outputs": [],
   "source": []
  },
  {
   "cell_type": "code",
   "execution_count": 64,
   "metadata": {},
   "outputs": [
    {
     "name": "stdout",
     "output_type": "stream",
     "text": [
      "a\n",
      "Training until validation scores don't improve for 100 rounds.\n",
      "[200]\ttraining's auc: 0.710483\tvalid_1's auc: 0.686213\n",
      "[400]\ttraining's auc: 0.72397\tvalid_1's auc: 0.696913\n",
      "Early stopping, best iteration is:\n",
      "[471]\ttraining's auc: 0.726249\tvalid_1's auc: 0.697525\n"
     ]
    }
   ],
   "source": [
    "model = XGBClassifier()\n",
    "parameters = {\n",
    "    'nthread':[8], #when use hyperthread, xgboost may become slower\n",
    "    'objective':['binary:logistic'],\n",
    "    'learning_rate': [0.04, 0.6], # from 0.1\n",
    "    'max_depth': [2], # opti 20 but slow\n",
    "    'min_child_weight': [100],\n",
    "    'silent': [1],\n",
    "#     'subsample': [0.8],\n",
    "#     'colsample_bytree': [0.8], # from 0.8\n",
    "    'n_estimators': [1000], #number of trees, change it to 1000 for better results\n",
    "    'seed': [1337]}\n",
    "\n",
    " \n",
    "lgb_params = {\n",
    "                'objective':'regression',\n",
    "                'boosting_type':'gbdt',\n",
    "                'metric':'auc',\n",
    "                'n_jobs':-1,\n",
    "                'learning_rate':0.01,\n",
    "                'num_leaves': 2**4,\n",
    "                'max_depth':5,\n",
    "                'tree_learner':'serial',\n",
    "                'colsample_bytree': 0.80,\n",
    "                'subsample_freq':1,\n",
    "                'subsample':1,\n",
    "                'n_estimators':2**10,\n",
    "                'max_bin':255,\n",
    "                'verbose':-1,\n",
    "                'seed': 1337,\n",
    "                'early_stopping_rounds':100,\n",
    "                'reg_alpha':0.3,\n",
    "                'reg_lamdba':0.243\n",
    "            }\n",
    "print('a')\n",
    "CrossValLabo.quick_lgbm(lgb_params, X_train_prepro, Y_train, X_val_prepro, Y_val)"
   ]
  },
  {
   "cell_type": "code",
   "execution_count": 47,
   "metadata": {},
   "outputs": [
    {
     "name": "stdout",
     "output_type": "stream",
     "text": [
      "Fitting 1 folds for each of 2 candidates, totalling 2 fits\n",
      "[CV] learning_rate=0.06, max_depth=3, min_child_weight=100, n_estimators=1000, nthread=8, objective=binary:logistic, seed=1337, silent=1 \n"
     ]
    },
    {
     "name": "stderr",
     "output_type": "stream",
     "text": [
      "[Parallel(n_jobs=1)]: Using backend SequentialBackend with 1 concurrent workers.\n"
     ]
    },
    {
     "name": "stdout",
     "output_type": "stream",
     "text": [
      "[CV]  learning_rate=0.06, max_depth=3, min_child_weight=100, n_estimators=1000, nthread=8, objective=binary:logistic, seed=1337, silent=1, total=  52.0s\n",
      "[CV] learning_rate=0.8, max_depth=3, min_child_weight=100, n_estimators=1000, nthread=8, objective=binary:logistic, seed=1337, silent=1 \n"
     ]
    },
    {
     "name": "stderr",
     "output_type": "stream",
     "text": [
      "[Parallel(n_jobs=1)]: Done   1 out of   1 | elapsed:   52.0s remaining:    0.0s\n"
     ]
    },
    {
     "name": "stdout",
     "output_type": "stream",
     "text": [
      "[CV]  learning_rate=0.8, max_depth=3, min_child_weight=100, n_estimators=1000, nthread=8, objective=binary:logistic, seed=1337, silent=1, total= 1.0min\n"
     ]
    },
    {
     "name": "stderr",
     "output_type": "stream",
     "text": [
      "[Parallel(n_jobs=1)]: Done   2 out of   2 | elapsed:  1.9min finished\n"
     ]
    }
   ],
   "source": [
    "best_parameters_val, score_val, score_train, model = CrossValLabo.optimize_hparams(model, parameters, X_train_prepro, Y_train, X_val_prepro, Y_val)"
   ]
  },
  {
   "cell_type": "code",
   "execution_count": 48,
   "metadata": {},
   "outputs": [
    {
     "name": "stdout",
     "output_type": "stream",
     "text": [
      "{'learning_rate': 0.06, 'max_depth': 3, 'min_child_weight': 100, 'n_estimators': 1000, 'nthread': 8, 'objective': 'binary:logistic', 'seed': 1337, 'silent': 1}\n",
      "0.6967691088289812\n",
      "0.7421719916212053\n"
     ]
    }
   ],
   "source": [
    "print(best_parameters_val)\n",
    "print(score_val)\n",
    "print(score_train)"
   ]
  },
  {
   "cell_type": "code",
   "execution_count": 49,
   "metadata": {},
   "outputs": [
    {
     "data": {
      "text/plain": [
       "<matplotlib.axes._subplots.AxesSubplot at 0x7feedd3c0710>"
      ]
     },
     "execution_count": 49,
     "metadata": {},
     "output_type": "execute_result"
    },
    {
     "data": {
      "image/png": "[encoded data removed]",
      "text/plain": [
       "<Figure size 432x288 with 1 Axes>"
      ]
     },
     "metadata": {
      "needs_background": "light"
     },
     "output_type": "display_data"
    }
   ],
   "source": [
    "plot_importance(model)"
   ]
  },
  {
   "cell_type": "code",
   "execution_count": null,
   "metadata": {},
   "outputs": [],
   "source": []
  }
 ],
 "metadata": {
  "kernelspec": {
   "display_name": "Python 3",
   "language": "python",
   "name": "python3"
  },
  "language_info": {
   "codemirror_mode": {
    "name": "ipython",
    "version": 3
   },
   "file_extension": ".py",
   "mimetype": "text/x-python",
   "name": "python",
   "nbconvert_exporter": "python",
   "pygments_lexer": "ipython3",
   "version": "3.6.8"
  }
 },
 "nbformat": 4,
 "nbformat_minor": 2
}
