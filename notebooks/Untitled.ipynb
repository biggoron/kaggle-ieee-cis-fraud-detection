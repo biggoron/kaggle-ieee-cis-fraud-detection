{
 "cells": [
  {
   "cell_type": "code",
   "execution_count": 28,
   "metadata": {},
   "outputs": [],
   "source": [
    "import sys\n",
    "sys.path.insert(0,'/home/dan/Projects/kaggle-ieee-cis-fraud-detection/src/')\n",
    "import pandas as pd\n",
    "import lightgbm as lgb\n",
    "from sklearn.metrics import roc_auc_score\n",
    "from cross_val_labo import CrossValLabo"
   ]
  },
  {
   "cell_type": "code",
   "execution_count": 20,
   "metadata": {},
   "outputs": [],
   "source": [
    "train_set = pd.read_pickle('./train_set.pkl')\n",
    "train_label = pd.read_pickle('./train_label.pkl')"
   ]
  },
  {
   "cell_type": "code",
   "execution_count": 21,
   "metadata": {},
   "outputs": [],
   "source": [
    "val_mask = train_set.TransactionDT >= 13000000\n",
    "train_mask = train_set.TransactionDT < 13000000\n",
    "\n",
    "X_val = train_set[val_mask]\n",
    "y_val = train_label[val_mask]\n",
    "X_train = train_set[train_mask]\n",
    "y_train = train_label[train_mask]\n",
    "\n",
    "del train_set\n",
    "del train_label"
   ]
  },
  {
   "cell_type": "code",
   "execution_count": 24,
   "metadata": {},
   "outputs": [],
   "source": [
    "lgb_params = {\n",
    "                'objective':'regression',\n",
    "                'boosting_type':'gbdt',\n",
    "                'metric':'auc',\n",
    "                'n_jobs':8,\n",
    "                'learning_rate':0.01,\n",
    "                'num_leaves': 2**10,\n",
    "                'min_child_samples': 40,\n",
    "                'max_depth':12,\n",
    "                'tree_learner':'serial',\n",
    "                'colsample_bytree': 0.80,\n",
    "                'n_estimators':2**10,\n",
    "                'max_bin':255,\n",
    "                'seed': 1337,\n",
    "                'reg_alpha':0.3,\n",
    "                'reg_lamdba':0.243\n",
    "            }\n",
    "model = lgb.LGBMClassifier(**lgb_params)"
   ]
  },
  {
   "cell_type": "code",
   "execution_count": 25,
   "metadata": {},
   "outputs": [
    {
     "data": {
      "text/plain": [
       "LGBMClassifier(boosting_type='gbdt', class_weight=None, colsample_bytree=0.8,\n",
       "               importance_type='split', learning_rate=0.01, max_bin=255,\n",
       "               max_depth=12, metric='auc', min_child_samples=40,\n",
       "               min_child_weight=0.001, min_split_gain=0.0, n_estimators=1024,\n",
       "               n_jobs=8, num_leaves=1024, objective='regression',\n",
       "               random_state=None, reg_alpha=0.3, reg_lambda=0.0,\n",
       "               reg_lamdba=0.243, seed=1337, silent=True, subsample=1.0,\n",
       "               subsample_for_bin=200000, subsample_freq=0,\n",
       "               tree_learner='serial')"
      ]
     },
     "execution_count": 25,
     "metadata": {},
     "output_type": "execute_result"
    }
   ],
   "source": [
    "model.fit(X_train, y_train, eval_set=[])"
   ]
  },
  {
   "cell_type": "code",
   "execution_count": 38,
   "metadata": {},
   "outputs": [],
   "source": [
    "preds = model.predict_proba(X_val)[:, 1]"
   ]
  },
  {
   "cell_type": "code",
   "execution_count": 40,
   "metadata": {},
   "outputs": [
    {
     "data": {
      "text/plain": [
       "0.896726283454384"
      ]
     },
     "execution_count": 40,
     "metadata": {},
     "output_type": "execute_result"
    }
   ],
   "source": [
    "score = roc_auc_score(y_val, preds)\n",
    "score"
   ]
  }
 ],
 "metadata": {
  "kernelspec": {
   "display_name": "Python 3",
   "language": "python",
   "name": "python3"
  },
  "language_info": {
   "codemirror_mode": {
    "name": "ipython",
    "version": 3
   },
   "file_extension": ".py",
   "mimetype": "text/x-python",
   "name": "python",
   "nbconvert_exporter": "python",
   "pygments_lexer": "ipython3",
   "version": "3.6.8"
  }
 },
 "nbformat": 4,
 "nbformat_minor": 2
}
